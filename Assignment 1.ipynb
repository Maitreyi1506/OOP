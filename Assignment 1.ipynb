{
  "nbformat": 4,
  "nbformat_minor": 0,
  "metadata": {
    "colab": {
      "name": "Untitled1.ipynb",
      "provenance": [],
      "authorship_tag": "ABX9TyP3B57RXXHGJwIeYABsa1wh",
      "include_colab_link": true
    },
    "kernelspec": {
      "name": "python3",
      "display_name": "Python 3"
    },
    "language_info": {
      "name": "python"
    }
  },
  "cells": [
    {
      "cell_type": "markdown",
      "metadata": {
        "id": "view-in-github",
        "colab_type": "text"
      },
      "source": [
        "<a href=\"https://colab.research.google.com/github/Maitreyi1506/OOP/blob/main/Assignment%201.ipynb\" target=\"_parent\"><img src=\"https://colab.research.google.com/assets/colab-badge.svg\" alt=\"Open In Colab\"/></a>"
      ]
    },
    {
      "cell_type": "markdown",
      "metadata": {
        "id": "vn3Gjpm01P_W"
      },
      "source": [
        "# Program 1\n"
      ]
    },
    {
      "cell_type": "code",
      "metadata": {
        "colab": {
          "base_uri": "https://localhost:8080/"
        },
        "id": "bsN05LRK1SoP",
        "outputId": "dc68122d-655d-4881-b5a6-a10eb01f1950"
      },
      "source": [
        "#Whole numbers and floating numbers\n",
        "\n",
        "a=50\n",
        "b=3.14\n",
        "Name=\"Maitreyi\"\n",
        "Double=Name+\" \"+Name\n",
        "print(a,b,Name,Double)"
      ],
      "execution_count": 1,
      "outputs": [
        {
          "output_type": "stream",
          "name": "stdout",
          "text": [
            "50 3.14 Maitreyi Maitreyi Maitreyi\n"
          ]
        }
      ]
    },
    {
      "cell_type": "markdown",
      "metadata": {
        "id": "OF8u7YJQ1rLs"
      },
      "source": [
        "# Program 2"
      ]
    },
    {
      "cell_type": "code",
      "metadata": {
        "colab": {
          "base_uri": "https://localhost:8080/"
        },
        "id": "qJ9eEAy31uID",
        "outputId": "769663a9-697f-4b15-a428-22ad1732ca46"
      },
      "source": [
        "#Strings \n",
        "\n",
        "str=\"My name is Maitreyi and I study in IIIT DWD\"\n",
        "print(str)\n",
        "print(str[0])\n",
        "print(str[5])\n",
        "str1=str[0:15]\n",
        "print(str1)\n",
        "str2=\"I study in year %d\" %2\n",
        "print(str2)"
      ],
      "execution_count": 3,
      "outputs": [
        {
          "output_type": "stream",
          "name": "stdout",
          "text": [
            "My name is Maitreyi and I study in IIIT DWD\n",
            "M\n",
            "m\n",
            "My name is Mait\n",
            "I study in year 2\n"
          ]
        }
      ]
    },
    {
      "cell_type": "markdown",
      "metadata": {
        "id": "-vQ12c1B2duU"
      },
      "source": [
        "# Program 3\n"
      ]
    },
    {
      "cell_type": "code",
      "metadata": {
        "colab": {
          "base_uri": "https://localhost:8080/"
        },
        "id": "In98iEfQ2gof",
        "outputId": "b1465eb7-6191-47f6-c9ac-20c2109438f4"
      },
      "source": [
        "#String functions \n",
        "\n",
        "str=\"Sometimes programming is hard\"\n",
        "print(str)\n",
        "str=str.replace(\"Sometimes\",\"Never\")\n",
        "print(str)\n",
        "idx=str.find(\"hard\")\n",
        "print(idx)\n",
        "for x in str:\n",
        "  if x=='i':\n",
        "    print(True)"
      ],
      "execution_count": 12,
      "outputs": [
        {
          "output_type": "stream",
          "name": "stdout",
          "text": [
            "Sometimes programming is hard\n",
            "Never programming is hard\n",
            "21\n",
            "True\n",
            "True\n"
          ]
        }
      ]
    },
    {
      "cell_type": "markdown",
      "metadata": {
        "id": "PUENFYtz3kCX"
      },
      "source": [
        "# Program 4"
      ]
    },
    {
      "cell_type": "code",
      "metadata": {
        "colab": {
          "base_uri": "https://localhost:8080/"
        },
        "id": "1G1v6Yjk3miW",
        "outputId": "fa819324-9bd7-4e7d-e9c0-781d9961e8a6"
      },
      "source": [
        "# defining strings\n",
        "\n",
        "firstName = \"OOP\"\n",
        "lastName = \"Course\"\n",
        "words = [\"How\",\"are\",\"you\",\"learning \", \"OOP \" , \"Course\",\"?\"]\n",
        "\n",
        "sentence = ' '.join(words)\n",
        "print(sentence)\n",
        "\n",
        "str=firstName+\" \"+lastName\n",
        "print(str)"
      ],
      "execution_count": 13,
      "outputs": [
        {
          "output_type": "stream",
          "name": "stdout",
          "text": [
            "How are you learning  OOP  Course ?\n",
            "OOP Course\n"
          ]
        }
      ]
    },
    {
      "cell_type": "markdown",
      "metadata": {
        "id": "jE68B7tN5P7x"
      },
      "source": [
        "# Program 5"
      ]
    },
    {
      "cell_type": "code",
      "metadata": {
        "colab": {
          "base_uri": "https://localhost:8080/"
        },
        "id": "_v4m2WiK5Tr8",
        "outputId": "1dea1c8f-e9d8-400e-c621-d44b282adab6"
      },
      "source": [
        "#splitting words and sentences\n",
        "\n",
        "str=\"This is a sample string to try splitting\"\n",
        "words=str.split()\n",
        "print(words)\n",
        "\n",
        "letters=list(words[0])\n",
        "print(letters)"
      ],
      "execution_count": 14,
      "outputs": [
        {
          "output_type": "stream",
          "name": "stdout",
          "text": [
            "['This', 'is', 'a', 'sample', 'string', 'to', 'try', 'splitting']\n",
            "['T', 'h', 'i', 's']\n"
          ]
        }
      ]
    },
    {
      "cell_type": "markdown",
      "metadata": {
        "id": "j5R9YHvL58km"
      },
      "source": [
        "# Program 6"
      ]
    },
    {
      "cell_type": "code",
      "metadata": {
        "colab": {
          "base_uri": "https://localhost:8080/"
        },
        "id": "ay7YZWpa5-3W",
        "outputId": "c6795bad-33e1-4e9c-937f-998cd7fa83cd"
      },
      "source": [
        "# testing random function\n",
        "\n",
        "import random\n",
        "\n",
        "print(random.random())\n",
        "print(random.randrange(0,15))\n",
        "print(random.uniform(0,10))"
      ],
      "execution_count": 16,
      "outputs": [
        {
          "output_type": "stream",
          "name": "stdout",
          "text": [
            "0.36325057721829057\n",
            "1\n",
            "9.152879315756788\n"
          ]
        }
      ]
    },
    {
      "cell_type": "markdown",
      "metadata": {
        "id": "pVmPxeob6SWq"
      },
      "source": [
        "# Program 7"
      ]
    },
    {
      "cell_type": "code",
      "metadata": {
        "colab": {
          "base_uri": "https://localhost:8080/"
        },
        "id": "cXqwNdoX6Ugx",
        "outputId": "e70bb89e-6997-4e4c-db9e-f073a7de09f1"
      },
      "source": [
        "#testing printing techniques\n",
        "\n",
        "name = input('What is your name? ')\n",
        "print('Welcome to OOP Course ' + name)\n",
        "\n",
        "qualification = input('What is your Qualification? ')\n",
        "print(name + \"'s\" + ' Educational Qualification  is ' + qualification)\n",
        "\n",
        "phoneNum = input('Give me pohone number? ')\n",
        "print('Phone number is : ' + phoneNum)"
      ],
      "execution_count": 20,
      "outputs": [
        {
          "output_type": "stream",
          "name": "stdout",
          "text": [
            "What is your name? Mait\n",
            "Welcome to OOP Course Mait\n",
            "What is your Qualification? CSE\n",
            "Mait's Educational Qualification  is CSE\n",
            "Give me pohone number? 96055\n",
            "Phone number is : 96055\n"
          ]
        }
      ]
    },
    {
      "cell_type": "markdown",
      "metadata": {
        "id": "yhvLF9XV7JSs"
      },
      "source": [
        "# Program 8"
      ]
    },
    {
      "cell_type": "code",
      "metadata": {
        "colab": {
          "base_uri": "https://localhost:8080/"
        },
        "id": "Tfdafl5R7L5x",
        "outputId": "88c66956-30a6-445c-dd2d-e487d8de4a5d"
      },
      "source": [
        "# an interactive program\n",
        "\n",
        "gender = input(\"Gender? \")\n",
        "gender = gender.lower()\n",
        "if gender == \"male\":\n",
        "    print(\" cat is male\")\n",
        "elif gender == \"female\":\n",
        "    print(\"cat is female\")\n",
        "else:\n",
        "    print(\"Invalid input\")\n",
        "age = int(input(\"Age of your cat? \"))\n",
        "\n",
        "if age < 5:\n",
        "    print(\"cat age is\", age)\n",
        "else:\n",
        "    print(\"Your cat is adult.\")\n",
        "\n",
        "x=int(input(\"Enter x? \"))\n",
        "if x == 2:\n",
        "    print('two')\n",
        "elif x == 3:\n",
        "    print('three')\n",
        "elif x == 4:\n",
        "    print('four')\n",
        "else:\n",
        "    print('something else')"
      ],
      "execution_count": 23,
      "outputs": [
        {
          "output_type": "stream",
          "name": "stdout",
          "text": [
            "Gender? MAle\n",
            " cat is male\n",
            "Age of your cat? 4\n",
            "cat age is 4\n",
            "Enter x? 2\n",
            "two\n"
          ]
        }
      ]
    },
    {
      "cell_type": "markdown",
      "metadata": {
        "id": "Y7qNRlDA7nU0"
      },
      "source": [
        "# Program 9"
      ]
    },
    {
      "cell_type": "code",
      "metadata": {
        "colab": {
          "base_uri": "https://localhost:8080/"
        },
        "id": "nwHdmesJ7qRo",
        "outputId": "706c93b1-9d1d-4c25-e728-a62b77e6c151"
      },
      "source": [
        "# Loops\n",
        "\n",
        "city = ['Tokyo','New York','Toronto','Hong Kong']\n",
        "print('Cities loop:')\n",
        "for x in city:\n",
        "    print('City: ' + x)"
      ],
      "execution_count": 24,
      "outputs": [
        {
          "output_type": "stream",
          "name": "stdout",
          "text": [
            "Cities loop:\n",
            "City: Tokyo\n",
            "City: New York\n",
            "City: Toronto\n",
            "City: Hong Kong\n"
          ]
        }
      ]
    },
    {
      "cell_type": "markdown",
      "metadata": {
        "id": "nujT9N957_i8"
      },
      "source": [
        "# Program 10"
      ]
    },
    {
      "cell_type": "code",
      "metadata": {
        "colab": {
          "base_uri": "https://localhost:8080/"
        },
        "id": "1XLZk9068CnM",
        "outputId": "d337a872-f7fd-4c6c-a44b-eefbd1fc8350"
      },
      "source": [
        "# Simple functions\n",
        "\n",
        "def currentYear():\n",
        "    print('2018')\n",
        "currentYear()   \n",
        "\n",
        "num = [1,2,3,4,5,6,7,8,9]\n",
        "print('x^2 loop:')\n",
        "for x in num:\n",
        "    y = x * x\n",
        "\n",
        "# lists\n",
        "pythonList = [ \"New York\", \"Los Angles\", \"Boston\", \"Denver\" ]\n",
        "\n",
        "print(pythonList)     \n",
        "print(pythonList[0])  \n",
        "print(pythonList[-1])"
      ],
      "execution_count": 26,
      "outputs": [
        {
          "output_type": "stream",
          "name": "stdout",
          "text": [
            "2018\n",
            "x^2 loop:\n",
            "['New York', 'Los Angles', 'Boston', 'Denver']\n",
            "New York\n",
            "Denver\n"
          ]
        }
      ]
    }
  ]
}